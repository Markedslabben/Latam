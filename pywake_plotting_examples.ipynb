{
 "cells": [
  {
   "cell_type": "markdown",
   "id": "7049fc7a",
   "metadata": {},
   "source": [
    "# 🌬️ PyWake Plotting Examples\n",
    "\n",
    "Denne notebooken viser ulike typer plott du kan generere med PyWake, inkludert wake-kart, effektkurver, og visualisering av produksjon.\n",
    "\n",
    "**Innhold:**\n",
    "- Vinddata-visualisering\n",
    "- Simulering med PyWake\n",
    "- Wake-kart (vindhastighet, deficit, turbulens)\n",
    "- Produksjon per vindretning (AEP)\n",
    "- Effektkurve (power curve)\n",
    "- Streamlines og vertikale snitt"
   ]
  },
  {
   "cell_type": "code",
   "execution_count": null,
   "id": "39c5d19f",
   "metadata": {},
   "outputs": [],
   "source": [
    "# 📦 Installer nødvendige pakker\n",
    "# !pip install py_wake matplotlib pandas"
   ]
  },
  {
   "cell_type": "code",
   "execution_count": 1,
   "id": "5fb1f849",
   "metadata": {},
   "outputs": [
    {
     "ename": "ModuleNotFoundError",
     "evalue": "No module named 'py_wake.plotstreamlines'",
     "output_type": "error",
     "traceback": [
      "\u001b[31m---------------------------------------------------------------------------\u001b[39m",
      "\u001b[31mModuleNotFoundError\u001b[39m                       Traceback (most recent call last)",
      "\u001b[36mCell\u001b[39m\u001b[36m \u001b[39m\u001b[32mIn[1]\u001b[39m\u001b[32m, line 7\u001b[39m\n\u001b[32m      5\u001b[39m \u001b[38;5;28;01mfrom\u001b[39;00m\u001b[38;5;250m \u001b[39m\u001b[34;01mpy_wake\u001b[39;00m\u001b[34;01m.\u001b[39;00m\u001b[34;01mexamples\u001b[39;00m\u001b[34;01m.\u001b[39;00m\u001b[34;01mdata\u001b[39;00m\u001b[34;01m.\u001b[39;00m\u001b[34;01mhornsrev1\u001b[39;00m\u001b[38;5;250m \u001b[39m\u001b[38;5;28;01mimport\u001b[39;00m Hornsrev1Site, V80\n\u001b[32m      6\u001b[39m \u001b[38;5;28;01mfrom\u001b[39;00m\u001b[38;5;250m \u001b[39m\u001b[34;01mpy_wake\u001b[39;00m\u001b[38;5;250m \u001b[39m\u001b[38;5;28;01mimport\u001b[39;00m NOJ\n\u001b[32m----> \u001b[39m\u001b[32m7\u001b[39m \u001b[38;5;28;01mfrom\u001b[39;00m\u001b[38;5;250m \u001b[39m\u001b[34;01mpy_wake\u001b[39;00m\u001b[34;01m.\u001b[39;00m\u001b[34;01mplotstreamlines\u001b[39;00m\u001b[38;5;250m \u001b[39m\u001b[38;5;28;01mimport\u001b[39;00m plot_streamlines\n\u001b[32m      8\u001b[39m \u001b[38;5;28;01mfrom\u001b[39;00m\u001b[38;5;250m \u001b[39m\u001b[34;01mpy_wake\u001b[39;00m\u001b[34;01m.\u001b[39;00m\u001b[34;01mflow_map\u001b[39;00m\u001b[38;5;250m \u001b[39m\u001b[38;5;28;01mimport\u001b[39;00m HorizontalGrid, YZGrid\n",
      "\u001b[31mModuleNotFoundError\u001b[39m: No module named 'py_wake.plotstreamlines'"
     ]
    }
   ],
   "source": [
    "import numpy as np\n",
    "import pandas as pd\n",
    "import matplotlib.pyplot as plt\n",
    "\n",
    "from py_wake.examples.data.hornsrev1 import Hornsrev1Site, V80\n",
    "from py_wake import NOJ\n",
    "from py_wake.plotstreamlines import plot_streamlines\n",
    "from py_wake.flow_map import HorizontalGrid, YZGrid"
   ]
  },
  {
   "cell_type": "markdown",
   "id": "6f120785",
   "metadata": {},
   "source": [
    "## 🌪️ Vinddata-eksempel (syntetisk)"
   ]
  },
  {
   "cell_type": "code",
   "execution_count": 2,
   "id": "01363918",
   "metadata": {},
   "outputs": [
    {
     "data": {
      "image/png": "[encoded data removed]",
      "text/plain": [
       "<Figure size 1200x400 with 2 Axes>"
      ]
     },
     "metadata": {},
     "output_type": "display_data"
    }
   ],
   "source": [
    "np.random.seed(42)\n",
    "n = 1000\n",
    "wind_data = pd.DataFrame({\n",
    "    'ws': np.random.weibull(a=2, size=n) * 7,\n",
    "    'wd': np.random.uniform(0, 360, size=n)\n",
    "})\n",
    "\n",
    "wind_data[['ws', 'wd']].plot(kind='hist', bins=50, alpha=0.6, subplots=True, layout=(1,2), figsize=(12,4))\n",
    "plt.suptitle('Vinddata (syntetisk)', fontsize=14)\n",
    "plt.show()"
   ]
  },
  {
   "cell_type": "markdown",
   "id": "e2b10513",
   "metadata": {},
   "source": [
    "## 🧮 Kjør en enkel simulering for plotting"
   ]
  },
  {
   "cell_type": "code",
   "execution_count": 3,
   "id": "2cc2d4ed",
   "metadata": {},
   "outputs": [
    {
     "name": "stderr",
     "output_type": "stream",
     "text": [
      "C:\\Users\\klaus\\anaconda3\\envs\\Latam\\Lib\\site-packages\\py_wake\\deficit_models\\noj.py:84: UserWarning: The NOJ model is not representative of the setup used in the literature. For this, use py_wake.literature.noj.Jensen_1983 instead\n",
      "  DeprecatedModel.__init__(self, 'py_wake.literature.noj.Jensen_1983')\n"
     ]
    }
   ],
   "source": [
    "site = Hornsrev1Site()\n",
    "windTurbines = V80()\n",
    "wfm = NOJ(site, windTurbines)\n",
    "\n",
    "x, y = site.initial_position.T\n",
    "wd0 = 270\n",
    "ws0 = 10\n",
    "\n",
    "sim_res = wfm(x, y, wd=[wd0], ws=[ws0])"
   ]
  },
  {
   "cell_type": "markdown",
   "id": "3e3ca062",
   "metadata": {},
   "source": [
    "## 🌬️ Vindhastighetskart (flow map)"
   ]
  },
  {
   "cell_type": "code",
   "execution_count": 4,
   "id": "cb885b2a",
   "metadata": {},
   "outputs": [
    {
     "ename": "TypeError",
     "evalue": "FlowMap.plot_wake_map() got an unexpected keyword argument 'title'",
     "output_type": "error",
     "traceback": [
      "\u001b[31m---------------------------------------------------------------------------\u001b[39m",
      "\u001b[31mTypeError\u001b[39m                                 Traceback (most recent call last)",
      "\u001b[36mCell\u001b[39m\u001b[36m \u001b[39m\u001b[32mIn[4]\u001b[39m\u001b[32m, line 2\u001b[39m\n\u001b[32m      1\u001b[39m flow_map = sim_res.flow_map(wd=wd0, ws=ws0)\n\u001b[32m----> \u001b[39m\u001b[32m2\u001b[39m \u001b[43mflow_map\u001b[49m\u001b[43m.\u001b[49m\u001b[43mplot_wake_map\u001b[49m\u001b[43m(\u001b[49m\u001b[43mtitle\u001b[49m\u001b[43m=\u001b[49m\u001b[33;43m'\u001b[39;49m\u001b[33;43mVindhastighet\u001b[39;49m\u001b[33;43m'\u001b[39;49m\u001b[43m)\u001b[49m\n",
      "\u001b[31mTypeError\u001b[39m: FlowMap.plot_wake_map() got an unexpected keyword argument 'title'"
     ]
    }
   ],
   "source": [
    "flow_map = sim_res.flow_map(wd=wd0, ws=ws0)\n",
    "flow_map.plot_wake_map(title='Vindhastighet')"
   ]
  },
  {
   "cell_type": "markdown",
   "id": "9e8fe8e5",
   "metadata": {},
   "source": [
    "## 💨 Wake deficit (tap)"
   ]
  },
  {
   "cell_type": "code",
   "execution_count": null,
   "id": "bab44499",
   "metadata": {},
   "outputs": [],
   "source": [
    "flow_map.plot_wake_map(quantity='deficit', title='Wake deficit')"
   ]
  },
  {
   "cell_type": "markdown",
   "id": "4952f364",
   "metadata": {},
   "source": [
    "## 📈 AEP per vindretning"
   ]
  },
  {
   "cell_type": "code",
   "execution_count": null,
   "id": "6254823c",
   "metadata": {},
   "outputs": [],
   "source": [
    "sim_res.aep(wd=True).plot(kind='bar', title='AEP per vindretning')"
   ]
  },
  {
   "cell_type": "markdown",
   "id": "3769331f",
   "metadata": {},
   "source": [
    "## ⚡ Effektkurve (Power curve)"
   ]
  },
  {
   "cell_type": "code",
   "execution_count": null,
   "id": "a64f115a",
   "metadata": {},
   "outputs": [],
   "source": [
    "windTurbines.power_curve.plot(title='Vindturbineffektkurve')"
   ]
  },
  {
   "cell_type": "markdown",
   "id": "6a1815ae",
   "metadata": {},
   "source": [
    "## 🧭 Streamlines (strømlinjer)"
   ]
  },
  {
   "cell_type": "code",
   "execution_count": null,
   "id": "51da11c6",
   "metadata": {},
   "outputs": [],
   "source": [
    "plot_streamlines(wfm, x, y, wd=wd0, ws=ws0)"
   ]
  },
  {
   "cell_type": "markdown",
   "id": "4f86ebe2",
   "metadata": {},
   "source": [
    "## 🪂 Vertikalt snitt (YZGrid)"
   ]
  },
  {
   "cell_type": "code",
   "execution_count": null,
   "id": "dfbe5c97",
   "metadata": {},
   "outputs": [],
   "source": [
    "yz_grid = YZGrid(x=500)\n",
    "flow_map_yz = sim_res.flow_map(wd=wd0, ws=ws0, grid=yz_grid)\n",
    "flow_map_yz.plot_wake_map(title='Vertikalt snitt')"
   ]
  }
 ],
 "metadata": {
  "kernelspec": {
   "display_name": "Python 3 (ipykernel)",
   "language": "python",
   "name": "python3"
  },
  "language_info": {
   "codemirror_mode": {
    "name": "ipython",
    "version": 3
   },
   "file_extension": ".py",
   "mimetype": "text/x-python",
   "name": "python",
   "nbconvert_exporter": "python",
   "pygments_lexer": "ipython3",
   "version": "3.12.10"
  }
 },
 "nbformat": 4,
 "nbformat_minor": 5
}
