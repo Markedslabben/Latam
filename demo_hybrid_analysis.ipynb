{
  "cells": [
    {
      "cell_type": "code",
      "execution_count": null,
      "metadata": {
        "vscode": {
          "languageId": "plaintext"
        }
      },
      "outputs": [],
      "source": [
        "# Hybrid Energy Analysis Pipeline Demo\n",
        "\n",
        "This notebook demonstrates the new object-oriented pipeline for wind and solar energy analysis.\n",
        "\n",
        "## Key Benefits:\n",
        "- **No more module reloading** - State is maintained in objects\n",
        "- **Method chaining** - `analysis.wind.load_turbine().create_site().run_simulation()`\n",
        "- **Automatic data flow** - Results automatically passed between steps\n",
        "- **Configuration management** - Centralized parameter control\n",
        "- **Jupyter-friendly** - Perfect for interactive analysis\n"
      ]
    },
    {
      "cell_type": "code",
      "execution_count": 2,
      "metadata": {},
      "outputs": [
        {
          "name": "stdout",
          "output_type": "stream",
          "text": [
            "Warning: Could not import all energy analysis components: No module named 'xarray'\n",
            "This might be due to missing dependencies. Please check your environment.\n"
          ]
        },
        {
          "ename": "ImportError",
          "evalue": "cannot import name 'HybridEnergyAnalysis' from 'energy_analysis' (c:\\Users\\klaus\\klauspython\\Latam\\energy_analysis\\__init__.py)",
          "output_type": "error",
          "traceback": [
            "\u001b[1;31m---------------------------------------------------------------------------\u001b[0m",
            "\u001b[1;31mImportError\u001b[0m                               Traceback (most recent call last)",
            "Cell \u001b[1;32mIn[2], line 2\u001b[0m\n\u001b[0;32m      1\u001b[0m \u001b[38;5;66;03m# Import the new pipeline system\u001b[39;00m\n\u001b[1;32m----> 2\u001b[0m \u001b[38;5;28;01mfrom\u001b[39;00m\u001b[38;5;250m \u001b[39m\u001b[38;5;21;01menergy_analysis\u001b[39;00m\u001b[38;5;250m \u001b[39m\u001b[38;5;28;01mimport\u001b[39;00m HybridEnergyAnalysis, AnalysisConfig\n\u001b[0;32m      3\u001b[0m \u001b[38;5;28;01mimport\u001b[39;00m\u001b[38;5;250m \u001b[39m\u001b[38;5;21;01mpandas\u001b[39;00m\u001b[38;5;250m \u001b[39m\u001b[38;5;28;01mas\u001b[39;00m\u001b[38;5;250m \u001b[39m\u001b[38;5;21;01mpd\u001b[39;00m\n\u001b[0;32m      4\u001b[0m \u001b[38;5;28;01mimport\u001b[39;00m\u001b[38;5;250m \u001b[39m\u001b[38;5;21;01mmatplotlib\u001b[39;00m\u001b[38;5;21;01m.\u001b[39;00m\u001b[38;5;21;01mpyplot\u001b[39;00m\u001b[38;5;250m \u001b[39m\u001b[38;5;28;01mas\u001b[39;00m\u001b[38;5;250m \u001b[39m\u001b[38;5;21;01mplt\u001b[39;00m\n",
            "\u001b[1;31mImportError\u001b[0m: cannot import name 'HybridEnergyAnalysis' from 'energy_analysis' (c:\\Users\\klaus\\klauspython\\Latam\\energy_analysis\\__init__.py)"
          ]
        }
      ],
      "source": [
        "# Import the new pipeline system\n",
        "from energy_analysis import HybridEnergyAnalysis, AnalysisConfig\n",
        "import pandas as pd\n",
        "import matplotlib.pyplot as plt\n",
        "\n",
        "# Set up plotting\n",
        "%matplotlib inline\n",
        "plt.style.use('default')\n"
      ]
    },
    {
      "cell_type": "code",
      "execution_count": null,
      "metadata": {},
      "outputs": [],
      "source": [
        "## 1. Quick Start - Default Analysis\n",
        "\n",
        "Run a complete analysis with default settings:\n"
      ]
    },
    {
      "cell_type": "code",
      "execution_count": null,
      "metadata": {},
      "outputs": [],
      "source": [
        "# Quick analysis with defaults\n",
        "analysis = HybridEnergyAnalysis.from_defaults()\n",
        "\n",
        "# Check what files are needed\n",
        "validation = analysis.validate_setup()\n",
        "print(\"Validation results:\")\n",
        "print(f\"Valid: {validation['valid']}\")\n",
        "if validation['missing_files']:\n",
        "    print(f\"Missing files: {validation['missing_files']}\")\n",
        "if validation['warnings']:\n",
        "    print(f\"Warnings: {validation['warnings']}\")\n"
      ]
    },
    {
      "cell_type": "code",
      "execution_count": null,
      "metadata": {},
      "outputs": [],
      "source": [
        "# Run full analysis (if files are available)\n",
        "if validation['valid']:\n",
        "    analysis.run_full_analysis()\n",
        "    analysis.print_summary()\n",
        "else:\n",
        "    print(\"Cannot run analysis - missing required files\")\n",
        "    print(\"Please ensure the following files exist:\")\n",
        "    for file in validation['missing_files']:\n",
        "        print(f\"  - {file}\")\n"
      ]
    },
    {
      "cell_type": "code",
      "execution_count": null,
      "metadata": {},
      "outputs": [],
      "source": [
        "## Benefits Achieved:\n",
        "\n",
        "✅ **No more `importlib.reload()`** - State maintained in objects  \n",
        "✅ **Method chaining** - Fluent interface for easy workflows  \n",
        "✅ **Automatic data passing** - No manual variable management  \n",
        "✅ **Configuration management** - Centralized parameter control  \n",
        "✅ **Jupyter-friendly** - Perfect for interactive analysis  \n",
        "✅ **Backward compatible** - Original functions still work  \n",
        "✅ **Error handling** - Better error messages and validation  \n",
        "✅ **Result organization** - Structured output and export  \n",
        "\n",
        "## Usage Examples:\n",
        "\n",
        "```python\n",
        "# Simple one-liner for full analysis\n",
        "analysis = HybridEnergyAnalysis.quick_analysis()\n",
        "\n",
        "# Method chaining for wind analysis\n",
        "wind_results = (analysis.wind\n",
        "               .load_turbine()\n",
        "               .create_site()\n",
        "               .load_layout()\n",
        "               .setup_wind_farm_model()\n",
        "               .run_simulation()\n",
        "               .process_results())\n",
        "\n",
        "# Custom configuration\n",
        "config = AnalysisConfig()\n",
        "config.wind.wake_model = \"BastankhahGaussianDeficit\"\n",
        "config.solar.installed_capacity_MW = 200.0\n",
        "analysis = HybridEnergyAnalysis(config)\n",
        "```\n"
      ]
    }
  ],
  "metadata": {
    "kernelspec": {
      "display_name": "latam_geo",
      "language": "python",
      "name": "python3"
    },
    "language_info": {
      "codemirror_mode": {
        "name": "ipython",
        "version": 3
      },
      "file_extension": ".py",
      "mimetype": "text/x-python",
      "name": "python",
      "nbconvert_exporter": "python",
      "pygments_lexer": "ipython3",
      "version": "3.10.17"
    }
  },
  "nbformat": 4,
  "nbformat_minor": 2
}
