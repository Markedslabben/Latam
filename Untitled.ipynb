{
 "cells": [
  {
   "cell_type": "code",
   "execution_count": 1,
   "id": "b633b083-4443-487c-8d99-9ddcc3bfc3bd",
   "metadata": {},
   "outputs": [],
   "source": []
  },
  {
   "cell_type": "code",
   "execution_count": 4,
   "id": "c1935240-0486-44cc-ad93-cab933705a57",
   "metadata": {},
   "outputs": [
    {
     "name": "stdout",
     "output_type": "stream",
     "text": [
      "\n",
      "Available layers in the GeoPackage:\n",
      "- ['output_layer' 'Polygon']\n",
      "- ['contours' 'LineString']\n",
      "- ['turbine_layout' 'Point']\n",
      "- ['Turbine_distance' 'Polygon']\n",
      "- ['planning_area' 'Polygon']\n",
      "- ['qgis_projects' None]\n",
      "\n",
      "Processing layer: output_layer\n",
      "\n",
      "Layer: output_layer\n",
      "Number of features: 11\n",
      "Geometry type: ['Polygon']\n",
      "CRS: EPSG:4326\n",
      "Columns: ['id', 'geometry']\n",
      "\n",
      "Processing layer: contours\n",
      "\n",
      "Layer: contours\n",
      "Number of features: 28\n",
      "Geometry type: ['LineString']\n",
      "CRS: EPSG:32619\n",
      "Columns: ['ID', 'ELEV', 'geometry']\n",
      "\n",
      "Processing layer: turbine_layout\n",
      "\n",
      "Layer: turbine_layout\n",
      "Number of features: 18\n",
      "Geometry type: ['Point']\n",
      "CRS: EPSG:32619\n",
      "Columns: ['geometry']\n",
      "\n",
      "Processing layer: Turbine_distance\n",
      "\n",
      "Layer: Turbine_distance\n",
      "Number of features: 18\n",
      "Geometry type: ['Polygon']\n",
      "CRS: EPSG:32619\n",
      "Columns: ['geometry']\n",
      "\n",
      "Processing layer: planning_area\n",
      "\n",
      "Layer: planning_area\n",
      "Number of features: 1\n",
      "Geometry type: ['Polygon']\n",
      "CRS: EPSG:32619\n",
      "Columns: ['Name', 'description', 'timestamp', 'begin', 'end', 'altitudeMode', 'tessellate', 'extrude', 'visibility', 'drawOrder', 'icon', 'Posicional', 'Area', 'Operacion', 'Provincia', 'Municipio', 'Capa', 'geometry']\n",
      "\n",
      "Skipping layer: qgis_projects (known issues)\n"
     ]
    }
   ],
   "source": [
    "# Wind farm simulation\n",
    "# Uses windfarm_layout package \n",
    "\n",
    "# import packages\n",
    "import windfarm_layout as wfl\n",
    "import pandas as pd\n",
    "import geopandas as gpd\n",
    "import numpy as np\n",
    "import matplotlib.pyplot as plt\n",
    "\n",
    "# load data\n",
    "layers = wfl.load_all_layers(\"inputdata/Dominikanske republikk.gpkg\")\n",
    "\n"
   ]
  },
  {
   "cell_type": "code",
   "execution_count": 8,
   "id": "9a689ae1-5dcb-4ab9-a006-df54f7f01072",
   "metadata": {},
   "outputs": [
    {
     "data": {
      "text/plain": [
       "dict_keys(['output_layer', 'contours', 'turbine_layout', 'Turbine_distance', 'planning_area'])"
      ]
     },
     "execution_count": 8,
     "metadata": {},
     "output_type": "execute_result"
    }
   ],
   "source": [
    "layers\n",
    "layers.keys()\n",
    "layers.keys()\n",
    "\n"
   ]
  },
  {
   "cell_type": "code",
   "execution_count": 13,
   "id": "fb02716f-76f0-4ad2-bb3b-4c1392ec6120",
   "metadata": {},
   "outputs": [
    {
     "data": {
      "text/html": [
       "<div>\n",
       "<style scoped>\n",
       "    .dataframe tbody tr th:only-of-type {\n",
       "        vertical-align: middle;\n",
       "    }\n",
       "\n",
       "    .dataframe tbody tr th {\n",
       "        vertical-align: top;\n",
       "    }\n",
       "\n",
       "    .dataframe thead th {\n",
       "        text-align: right;\n",
       "    }\n",
       "</style>\n",
       "<table border=\"1\" class=\"dataframe\">\n",
       "  <thead>\n",
       "    <tr style=\"text-align: right;\">\n",
       "      <th></th>\n",
       "      <th>geometry</th>\n",
       "    </tr>\n",
       "  </thead>\n",
       "  <tbody>\n",
       "    <tr>\n",
       "      <th>0</th>\n",
       "      <td>POINT (252700.499 2180771.582)</td>\n",
       "    </tr>\n",
       "    <tr>\n",
       "      <th>1</th>\n",
       "      <td>POINT (252772.694 2181009.585)</td>\n",
       "    </tr>\n",
       "    <tr>\n",
       "      <th>2</th>\n",
       "      <td>POINT (252847.302 2181185.205)</td>\n",
       "    </tr>\n",
       "    <tr>\n",
       "      <th>3</th>\n",
       "      <td>POINT (252910.358 2181355.789)</td>\n",
       "    </tr>\n",
       "    <tr>\n",
       "      <th>4</th>\n",
       "      <td>POINT (252978.932 2181569.596)</td>\n",
       "    </tr>\n",
       "    <tr>\n",
       "      <th>5</th>\n",
       "      <td>POINT (253062.312 2181786.661)</td>\n",
       "    </tr>\n",
       "    <tr>\n",
       "      <th>6</th>\n",
       "      <td>POINT (253132.476 2181996.981)</td>\n",
       "    </tr>\n",
       "    <tr>\n",
       "      <th>7</th>\n",
       "      <td>POINT (253215.997 2182224.436)</td>\n",
       "    </tr>\n",
       "    <tr>\n",
       "      <th>8</th>\n",
       "      <td>POINT (253296.02 2182436.352)</td>\n",
       "    </tr>\n",
       "    <tr>\n",
       "      <th>9</th>\n",
       "      <td>POINT (254144.881 2182386.496)</td>\n",
       "    </tr>\n",
       "    <tr>\n",
       "      <th>10</th>\n",
       "      <td>POINT (254220.261 2182619.262)</td>\n",
       "    </tr>\n",
       "    <tr>\n",
       "      <th>11</th>\n",
       "      <td>POINT (254283.61 2182812.36)</td>\n",
       "    </tr>\n",
       "    <tr>\n",
       "      <th>12</th>\n",
       "      <td>POINT (254345.223 2182998.555)</td>\n",
       "    </tr>\n",
       "    <tr>\n",
       "      <th>13</th>\n",
       "      <td>POINT (253564.381 2182616.404)</td>\n",
       "    </tr>\n",
       "    <tr>\n",
       "      <th>14</th>\n",
       "      <td>POINT (253819.987 2183157.763)</td>\n",
       "    </tr>\n",
       "    <tr>\n",
       "      <th>15</th>\n",
       "      <td>POINT (253331.575 2183308.753)</td>\n",
       "    </tr>\n",
       "    <tr>\n",
       "      <th>16</th>\n",
       "      <td>POINT (253162.102 2182816.679)</td>\n",
       "    </tr>\n",
       "    <tr>\n",
       "      <th>17</th>\n",
       "      <td>POINT (253235.435 2183034.465)</td>\n",
       "    </tr>\n",
       "  </tbody>\n",
       "</table>\n",
       "</div>"
      ],
      "text/plain": [
       "                          geometry\n",
       "0   POINT (252700.499 2180771.582)\n",
       "1   POINT (252772.694 2181009.585)\n",
       "2   POINT (252847.302 2181185.205)\n",
       "3   POINT (252910.358 2181355.789)\n",
       "4   POINT (252978.932 2181569.596)\n",
       "5   POINT (253062.312 2181786.661)\n",
       "6   POINT (253132.476 2181996.981)\n",
       "7   POINT (253215.997 2182224.436)\n",
       "8    POINT (253296.02 2182436.352)\n",
       "9   POINT (254144.881 2182386.496)\n",
       "10  POINT (254220.261 2182619.262)\n",
       "11    POINT (254283.61 2182812.36)\n",
       "12  POINT (254345.223 2182998.555)\n",
       "13  POINT (253564.381 2182616.404)\n",
       "14  POINT (253819.987 2183157.763)\n",
       "15  POINT (253331.575 2183308.753)\n",
       "16  POINT (253162.102 2182816.679)\n",
       "17  POINT (253235.435 2183034.465)"
      ]
     },
     "execution_count": 13,
     "metadata": {},
     "output_type": "execute_result"
    },
    {
     "data": {
      "image/png": "[encoded data removed]",
      "text/plain": [
       "<Figure size 1200x800 with 1 Axes>"
      ]
     },
     "metadata": {},
     "output_type": "display_data"
    }
   ],
   "source": [
    "fig, ax = plt.subplots(figsize=(12,8))\n",
    "layers['turbine_layout']"
   ]
  },
  {
   "cell_type": "code",
   "execution_count": null,
   "id": "2df06d1c-7f30-439b-b404-3c5eca4adfdb",
   "metadata": {},
   "outputs": [],
   "source": []
  }
 ],
 "metadata": {
  "kernelspec": {
   "display_name": "Python 3 (ipykernel)",
   "language": "python",
   "name": "python3"
  },
  "language_info": {
   "codemirror_mode": {
    "name": "ipython",
    "version": 3
   },
   "file_extension": ".py",
   "mimetype": "text/x-python",
   "name": "python",
   "nbconvert_exporter": "python",
   "pygments_lexer": "ipython3",
   "version": "3.12.10"
  }
 },
 "nbformat": 4,
 "nbformat_minor": 5
}
