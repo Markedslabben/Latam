{
  "cells": [
    {
      "cell_type": "raw",
      "metadata": {
        "vscode": {
          "languageId": "raw"
        }
      },
      "source": [
        "\n"
      ]
    },
    {
      "cell_type": "code",
      "execution_count": null,
      "metadata": {},
      "outputs": [],
      "source": [
        "\n"
      ]
    },
    {
      "cell_type": "code",
      "execution_count": null,
      "metadata": {},
      "outputs": [],
      "source": [
        "\n"
      ]
    },
    {
      "cell_type": "code",
      "execution_count": null,
      "metadata": {},
      "outputs": [],
      "source": [
        "# Check if we can import your custom modules\n",
        "import os\n",
        "print(f\"Current working directory: {os.getcwd()}\")\n",
        "\n",
        "try:\n",
        "    import turbine_galvian\n",
        "    print(\"✅ turbine_galvian module imported successfully\")\n",
        "except ImportError as e:\n",
        "    print(f\"❌ turbine_galvian: {e}\")\n",
        "\n",
        "try:\n",
        "    import site_galvian\n",
        "    print(\"✅ site_galvian module imported successfully\")\n",
        "except ImportError as e:\n",
        "    print(f\"❌ site_galvian: {e}\")\n",
        "\n",
        "try:\n",
        "    import PV_galvian\n",
        "    print(\"✅ PV_galvian module imported successfully\")\n",
        "except ImportError as e:\n",
        "    print(f\"❌ PV_galvian: {e}\")\n"
      ]
    },
    {
      "cell_type": "code",
      "execution_count": null,
      "metadata": {},
      "outputs": [],
      "source": [
        "\n"
      ]
    }
  ],
  "metadata": {
    "language_info": {
      "name": "python"
    }
  },
  "nbformat": 4,
  "nbformat_minor": 2
}
